{
 "cells": [
  {
   "cell_type": "code",
   "execution_count": 1,
   "metadata": {},
   "outputs": [],
   "source": [
    "import numpy as np\n",
    "import pandas as pd\n",
    "import tensorflow\n",
    "import matplotlib.pyplot as plt\n",
    "import seaborn as sns\n",
    "import spacy\n",
    "import warnings\n",
    "import nltk\n",
    "warnings.filterwarnings('ignore')"
   ]
  },
  {
   "cell_type": "code",
   "execution_count": 2,
   "metadata": {},
   "outputs": [
    {
     "data": {
      "text/html": [
       "<div>\n",
       "<style scoped>\n",
       "    .dataframe tbody tr th:only-of-type {\n",
       "        vertical-align: middle;\n",
       "    }\n",
       "\n",
       "    .dataframe tbody tr th {\n",
       "        vertical-align: top;\n",
       "    }\n",
       "\n",
       "    .dataframe thead th {\n",
       "        text-align: right;\n",
       "    }\n",
       "</style>\n",
       "<table border=\"1\" class=\"dataframe\">\n",
       "  <thead>\n",
       "    <tr style=\"text-align: right;\">\n",
       "      <th></th>\n",
       "      <th>Unnamed: 0</th>\n",
       "      <th>description</th>\n",
       "      <th>medical_specialty</th>\n",
       "      <th>sample_name</th>\n",
       "      <th>transcription</th>\n",
       "      <th>keywords</th>\n",
       "    </tr>\n",
       "  </thead>\n",
       "  <tbody>\n",
       "    <tr>\n",
       "      <th>0</th>\n",
       "      <td>0</td>\n",
       "      <td>A 23-year-old white female presents with comp...</td>\n",
       "      <td>Allergy / Immunology</td>\n",
       "      <td>Allergic Rhinitis</td>\n",
       "      <td>SUBJECTIVE:,  This 23-year-old white female pr...</td>\n",
       "      <td>allergy / immunology, allergic rhinitis, aller...</td>\n",
       "    </tr>\n",
       "    <tr>\n",
       "      <th>1</th>\n",
       "      <td>1</td>\n",
       "      <td>Consult for laparoscopic gastric bypass.</td>\n",
       "      <td>Bariatrics</td>\n",
       "      <td>Laparoscopic Gastric Bypass Consult - 2</td>\n",
       "      <td>PAST MEDICAL HISTORY:, He has difficulty climb...</td>\n",
       "      <td>bariatrics, laparoscopic gastric bypass, weigh...</td>\n",
       "    </tr>\n",
       "    <tr>\n",
       "      <th>2</th>\n",
       "      <td>2</td>\n",
       "      <td>Consult for laparoscopic gastric bypass.</td>\n",
       "      <td>Bariatrics</td>\n",
       "      <td>Laparoscopic Gastric Bypass Consult - 1</td>\n",
       "      <td>HISTORY OF PRESENT ILLNESS: , I have seen ABC ...</td>\n",
       "      <td>bariatrics, laparoscopic gastric bypass, heart...</td>\n",
       "    </tr>\n",
       "    <tr>\n",
       "      <th>3</th>\n",
       "      <td>3</td>\n",
       "      <td>2-D M-Mode. Doppler.</td>\n",
       "      <td>Cardiovascular / Pulmonary</td>\n",
       "      <td>2-D Echocardiogram - 1</td>\n",
       "      <td>2-D M-MODE: , ,1.  Left atrial enlargement wit...</td>\n",
       "      <td>cardiovascular / pulmonary, 2-d m-mode, dopple...</td>\n",
       "    </tr>\n",
       "    <tr>\n",
       "      <th>4</th>\n",
       "      <td>4</td>\n",
       "      <td>2-D Echocardiogram</td>\n",
       "      <td>Cardiovascular / Pulmonary</td>\n",
       "      <td>2-D Echocardiogram - 2</td>\n",
       "      <td>1.  The left ventricular cavity size and wall ...</td>\n",
       "      <td>cardiovascular / pulmonary, 2-d, doppler, echo...</td>\n",
       "    </tr>\n",
       "  </tbody>\n",
       "</table>\n",
       "</div>"
      ],
      "text/plain": [
       "   Unnamed: 0                                        description  \\\n",
       "0           0   A 23-year-old white female presents with comp...   \n",
       "1           1           Consult for laparoscopic gastric bypass.   \n",
       "2           2           Consult for laparoscopic gastric bypass.   \n",
       "3           3                             2-D M-Mode. Doppler.     \n",
       "4           4                                 2-D Echocardiogram   \n",
       "\n",
       "             medical_specialty                                sample_name  \\\n",
       "0         Allergy / Immunology                         Allergic Rhinitis    \n",
       "1                   Bariatrics   Laparoscopic Gastric Bypass Consult - 2    \n",
       "2                   Bariatrics   Laparoscopic Gastric Bypass Consult - 1    \n",
       "3   Cardiovascular / Pulmonary                    2-D Echocardiogram - 1    \n",
       "4   Cardiovascular / Pulmonary                    2-D Echocardiogram - 2    \n",
       "\n",
       "                                       transcription  \\\n",
       "0  SUBJECTIVE:,  This 23-year-old white female pr...   \n",
       "1  PAST MEDICAL HISTORY:, He has difficulty climb...   \n",
       "2  HISTORY OF PRESENT ILLNESS: , I have seen ABC ...   \n",
       "3  2-D M-MODE: , ,1.  Left atrial enlargement wit...   \n",
       "4  1.  The left ventricular cavity size and wall ...   \n",
       "\n",
       "                                            keywords  \n",
       "0  allergy / immunology, allergic rhinitis, aller...  \n",
       "1  bariatrics, laparoscopic gastric bypass, weigh...  \n",
       "2  bariatrics, laparoscopic gastric bypass, heart...  \n",
       "3  cardiovascular / pulmonary, 2-d m-mode, dopple...  \n",
       "4  cardiovascular / pulmonary, 2-d, doppler, echo...  "
      ]
     },
     "execution_count": 2,
     "metadata": {},
     "output_type": "execute_result"
    }
   ],
   "source": [
    "df = pd.read_csv('mtsamples.csv', sep=',')\n",
    "df.head()"
   ]
  },
  {
   "cell_type": "code",
   "execution_count": 3,
   "metadata": {},
   "outputs": [
    {
     "data": {
      "text/plain": [
       "(4999, 6)"
      ]
     },
     "execution_count": 3,
     "metadata": {},
     "output_type": "execute_result"
    }
   ],
   "source": [
    "df.shape"
   ]
  },
  {
   "cell_type": "code",
   "execution_count": 4,
   "metadata": {},
   "outputs": [
    {
     "name": "stdout",
     "output_type": "stream",
     "text": [
      "<class 'pandas.core.frame.DataFrame'>\n",
      "RangeIndex: 4999 entries, 0 to 4998\n",
      "Data columns (total 6 columns):\n",
      " #   Column             Non-Null Count  Dtype \n",
      "---  ------             --------------  ----- \n",
      " 0   Unnamed: 0         4999 non-null   int64 \n",
      " 1   description        4999 non-null   object\n",
      " 2   medical_specialty  4999 non-null   object\n",
      " 3   sample_name        4999 non-null   object\n",
      " 4   transcription      4966 non-null   object\n",
      " 5   keywords           3931 non-null   object\n",
      "dtypes: int64(1), object(5)\n",
      "memory usage: 234.5+ KB\n"
     ]
    }
   ],
   "source": [
    "df.info()"
   ]
  },
  {
   "cell_type": "code",
   "execution_count": 5,
   "metadata": {},
   "outputs": [
    {
     "data": {
      "text/plain": [
       "Unnamed: 0              0\n",
       "description             0\n",
       "medical_specialty       0\n",
       "sample_name             0\n",
       "transcription          33\n",
       "keywords             1068\n",
       "dtype: int64"
      ]
     },
     "execution_count": 5,
     "metadata": {},
     "output_type": "execute_result"
    }
   ],
   "source": [
    "df.isnull().sum()"
   ]
  },
  {
   "cell_type": "code",
   "execution_count": 6,
   "metadata": {},
   "outputs": [],
   "source": [
    "df=df[~df.transcription.isnull()]"
   ]
  },
  {
   "cell_type": "code",
   "execution_count": 7,
   "metadata": {},
   "outputs": [
    {
     "data": {
      "text/plain": [
       "Unnamed: 0              0\n",
       "description             0\n",
       "medical_specialty       0\n",
       "sample_name             0\n",
       "transcription           0\n",
       "keywords             1068\n",
       "dtype: int64"
      ]
     },
     "execution_count": 7,
     "metadata": {},
     "output_type": "execute_result"
    }
   ],
   "source": [
    "df.isnull().sum()"
   ]
  },
  {
   "cell_type": "code",
   "execution_count": 8,
   "metadata": {},
   "outputs": [
    {
     "data": {
      "text/plain": [
       " Surgery                          1088\n",
       " Consult - History and Phy.        516\n",
       " Cardiovascular / Pulmonary        371\n",
       " Orthopedic                        355\n",
       " Radiology                         273\n",
       " General Medicine                  259\n",
       " Gastroenterology                  224\n",
       " Neurology                         223\n",
       " SOAP / Chart / Progress Notes     166\n",
       " Urology                           156\n",
       " Obstetrics / Gynecology           155\n",
       " Discharge Summary                 108\n",
       " ENT - Otolaryngology               96\n",
       " Neurosurgery                       94\n",
       " Hematology - Oncology              90\n",
       " Ophthalmology                      83\n",
       " Nephrology                         81\n",
       " Emergency Room Reports             75\n",
       " Pediatrics - Neonatal              70\n",
       " Pain Management                    61\n",
       " Psychiatry / Psychology            53\n",
       " Office Notes                       50\n",
       " Podiatry                           47\n",
       " Dermatology                        29\n",
       " Cosmetic / Plastic Surgery         27\n",
       " Dentistry                          27\n",
       " Letters                            23\n",
       " Physical Medicine - Rehab          21\n",
       " Sleep Medicine                     20\n",
       " Endocrinology                      19\n",
       " Bariatrics                         18\n",
       " IME-QME-Work Comp etc.             16\n",
       " Chiropractic                       14\n",
       " Rheumatology                       10\n",
       " Diets and Nutritions               10\n",
       " Speech - Language                   9\n",
       " Lab Medicine - Pathology            8\n",
       " Autopsy                             8\n",
       " Allergy / Immunology                7\n",
       " Hospice - Palliative Care           6\n",
       "Name: medical_specialty, dtype: int64"
      ]
     },
     "execution_count": 8,
     "metadata": {},
     "output_type": "execute_result"
    }
   ],
   "source": [
    "df.medical_specialty.value_counts()"
   ]
  },
  {
   "cell_type": "code",
   "execution_count": 9,
   "metadata": {},
   "outputs": [
    {
     "data": {
      "text/plain": [
       "<matplotlib.axes._subplots.AxesSubplot at 0x21fed05a070>"
      ]
     },
     "execution_count": 9,
     "metadata": {},
     "output_type": "execute_result"
    },
    {
     "data": {
      "image/png": "[encoded data removed]",
      "text/plain": [
       "<Figure size 1440x720 with 1 Axes>"
      ]
     },
     "metadata": {
      "needs_background": "light"
     },
     "output_type": "display_data"
    }
   ],
   "source": [
    "plt.figure(figsize=(20,10))\n",
    "plt.xticks(rotation=80,fontsize=14)\n",
    "sns.countplot(x='medical_specialty', data=df,palette=\"Set3\")\n"
   ]
  },
  {
   "cell_type": "code",
   "execution_count": 11,
   "metadata": {},
   "outputs": [
    {
     "data": {
      "text/plain": [
       "2360"
      ]
     },
     "execution_count": 11,
     "metadata": {},
     "output_type": "execute_result"
    }
   ],
   "source": [
    "df.sample_name.nunique()"
   ]
  },
  {
   "cell_type": "code",
   "execution_count": 12,
   "metadata": {},
   "outputs": [],
   "source": [
    "df=df[df.medical_specialty.apply(lambda x : str(x).strip()).isin(['Cardiovascular / Pulmonary','Orthopedic'])]"
   ]
  },
  {
   "cell_type": "code",
   "execution_count": 13,
   "metadata": {},
   "outputs": [
    {
     "data": {
      "text/plain": [
       "(726, 6)"
      ]
     },
     "execution_count": 13,
     "metadata": {},
     "output_type": "execute_result"
    }
   ],
   "source": [
    "df.shape"
   ]
  },
  {
   "cell_type": "code",
   "execution_count": 14,
   "metadata": {},
   "outputs": [
    {
     "data": {
      "text/plain": [
       " Cardiovascular / Pulmonary    371\n",
       " Orthopedic                    355\n",
       "Name: medical_specialty, dtype: int64"
      ]
     },
     "execution_count": 14,
     "metadata": {},
     "output_type": "execute_result"
    }
   ],
   "source": [
    "df.medical_specialty.value_counts()"
   ]
  },
  {
   "cell_type": "code",
   "execution_count": 15,
   "metadata": {},
   "outputs": [
    {
     "data": {
      "text/plain": [
       "'2-D M-MODE: , ,1.  Left atrial enlargement with left atrial diameter of 4.7 cm.,2.  Normal size right and left ventricle.,3.  Normal LV systolic function with left ventricular ejection fraction of 51%.,4.  Normal LV diastolic function.,5.  No pericardial effusion.,6.  Normal morphology of aortic valve, mitral valve, tricuspid valve, and pulmonary valve.,7.  PA systolic pressure is 36 mmHg.,DOPPLER: , ,1.  Mild mitral and tricuspid regurgitation.,2.  Trace aortic and pulmonary regurgitation.'"
      ]
     },
     "execution_count": 15,
     "metadata": {},
     "output_type": "execute_result"
    }
   ],
   "source": [
    "df.iloc[0]['transcription']"
   ]
  },
  {
   "cell_type": "code",
   "execution_count": 16,
   "metadata": {},
   "outputs": [],
   "source": [
    "from nltk.stem import WordNetLemmatizer\n",
    "from nltk.stem.porter import PorterStemmer\n",
    "from nltk import word_tokenize\n",
    "nlp=spacy.load('en_core_web_lg')\n",
    "\n",
    "def lemmatize(text):\n",
    "    words_in_para =[]\n",
    "    lemmatizer = WordNetLemmatizer()\n",
    "    doc=nlp(text)\n",
    "    for token in doc:\n",
    "        words_in_para.append(token.lemma_)\n",
    "    return ' '.join(words_in_para) \n",
    "\n",
    "def stemmize(text):\n",
    "    words_in_para =[]\n",
    "    stemmer = PorterStemmer()\n",
    "    doc=nlp(text)\n",
    "    for token in doc:\n",
    "        words_in_para.append(stemmer.stem(token.text))\n",
    "    return ' '.join(words_in_para) \n",
    "\n",
    "# Import stopwords with nltk.\n",
    "from nltk.corpus import stopwords\n",
    "stop = stopwords.words('english')\n",
    "import string\n",
    "import re\n",
    "\n",
    "def text_cleaning(text): \n",
    "    text = text.translate(str.maketrans('', '', string.punctuation))\n",
    "    text1 = ''.join([w for w in text if not w.isdigit()]) \n",
    "    REPLACE_BY_SPACE_RE = re.compile('[/(){}\\[\\]\\|@,;]')\n",
    "    text2 = text1.lower()\n",
    "    text2 = REPLACE_BY_SPACE_RE.sub(' ', text2)\n",
    "    cleaned_str=str(' '.join([word for word in text2.split() if word not in (stop)]))\n",
    "    return cleaned_str\n",
    "\n",
    "def text_clean(text):\n",
    "    REPLACE_BY_SPACE_RE = re.compile('[/(){}\\[\\]\\|@,;]')\n",
    "    BAD_SYMBOLS_RE = re.compile('[^0-9a-z #+_]')\n",
    "    STOPWORDS = set(stopwords.words('english'))\n",
    "    \n",
    "    text = text.lower()\n",
    "    text = REPLACE_BY_SPACE_RE.sub(' ', text) # replace REPLACE_BY_SPACE_RE symbols by space in text\n",
    "    text = BAD_SYMBOLS_RE.sub('', text) # delete symbols which are in BAD_SYMBOLS_RE from text\n",
    "    words = text.split()\n",
    "    i = 0\n",
    "    while i < len(words):\n",
    "        if (words[i] in STOPWORDS) or (re.search('[0-9]+',words[i])!=None) or (len(words[i])<3):\n",
    "            words.pop(i)\n",
    "        else:\n",
    "            i += 1\n",
    "    text = ' '.join(map(str, words))# delete stopwords from text\n",
    "    return text"
   ]
  },
  {
   "cell_type": "code",
   "execution_count": 17,
   "metadata": {},
   "outputs": [],
   "source": [
    "from sklearn.base import BaseEstimator, TransformerMixin"
   ]
  },
  {
   "cell_type": "code",
   "execution_count": 18,
   "metadata": {},
   "outputs": [],
   "source": [
    "class Lemmatize(TransformerMixin):\n",
    "    def __init__(self,col):\n",
    "            self.col = col\n",
    "    def fit(self, X, y):\n",
    "        return self\n",
    "    \n",
    "    def lemmatize(text):\n",
    "        words_in_para =[]\n",
    "        lemmatizer = WordNetLemmatizer()\n",
    "        doc=nlp(text)\n",
    "        for token in doc:\n",
    "            words_in_para.append(token.lemma_)\n",
    "        return ' '.join(words_in_para) \n",
    "    \n",
    "    def transform(self, X):\n",
    "        if type(X)==pd.core.series.Series:\n",
    "            X=X.apply(lemmatize)\n",
    "        else:\n",
    "            for i in self.col:\n",
    "                X[i]=X[i].apply(lemmatize)\n",
    "\n",
    "        return X         \n",
    "           "
   ]
  },
  {
   "cell_type": "code",
   "execution_count": 19,
   "metadata": {},
   "outputs": [
    {
     "data": {
      "text/plain": [
       "True"
      ]
     },
     "execution_count": 19,
     "metadata": {},
     "output_type": "execute_result"
    }
   ],
   "source": [
    "type(df['transcription'])== pd.core.series.Series"
   ]
  },
  {
   "cell_type": "code",
   "execution_count": 20,
   "metadata": {},
   "outputs": [],
   "source": [
    "class TextClean(TransformerMixin):\n",
    "    def __init__(self,col):\n",
    "            self.col = col\n",
    "    def fit(self, X, y):\n",
    "        return self\n",
    "    \n",
    "    def text_clean(text):\n",
    "        REPLACE_BY_SPACE_RE = re.compile('[/(){}\\[\\]\\|@,;]')\n",
    "        BAD_SYMBOLS_RE = re.compile('[^0-9a-z #+_]')\n",
    "        STOPWORDS = set(stopwords.words('english'))\n",
    "\n",
    "        text = text.lower()\n",
    "        text = REPLACE_BY_SPACE_RE.sub(' ', text) # replace REPLACE_BY_SPACE_RE symbols by space in text\n",
    "        text = BAD_SYMBOLS_RE.sub('', text) # delete symbols which are in BAD_SYMBOLS_RE from text\n",
    "        words = text.split()\n",
    "        i = 0\n",
    "        while i < len(words):\n",
    "            if (words[i] in STOPWORDS) or (re.search('[0-9]+',words[i])!=None) or (len(words[i])<3):\n",
    "                words.pop(i)\n",
    "            else:\n",
    "                i += 1\n",
    "        text = ' '.join(map(str, words))# delete stopwords from text\n",
    "        return text\n",
    "    \n",
    "    def transform(self, X):\n",
    "        if type(X)==pd.core.series.Series:\n",
    "            X=X.apply(text_clean)\n",
    "        else:\n",
    "            for i in self.col:\n",
    "                X[i]=X[i].apply(text_clean)\n",
    "        return X "
   ]
  },
  {
   "cell_type": "code",
   "execution_count": 21,
   "metadata": {},
   "outputs": [
    {
     "data": {
      "text/plain": [
       "'1.  The left ventricular cavity size and wall thickness appear normal.  The wall motion and left ventricular systolic function appears hyperdynamic with estimated ejection fraction of 70% to 75%.  There is near-cavity obliteration seen.  There also appears to be increased left ventricular outflow tract gradient at the mid cavity level consistent with hyperdynamic left ventricular systolic function.  There is abnormal left ventricular relaxation pattern seen as well as elevated left atrial pressures seen by Doppler examination.,2.  The left atrium appears mildly dilated.,3.  The right atrium and right ventricle appear normal.,4.  The aortic root appears normal.,5.  The aortic valve appears calcified with mild aortic valve stenosis, calculated aortic valve area is 1.3 cm square with a maximum instantaneous gradient of 34 and a mean gradient of 19 mm.,6.  There is mitral annular calcification extending to leaflets and supportive structures with thickening of mitral valve leaflets with mild mitral regurgitation.,7.  The tricuspid valve appears normal with trace tricuspid regurgitation with moderate pulmonary artery hypertension.  Estimated pulmonary artery systolic pressure is 49 mmHg.  Estimated right atrial pressure of 10 mmHg.,8.  The pulmonary valve appears normal with trace pulmonary insufficiency.,9.  There is no pericardial effusion or intracardiac mass seen.,10.  There is a color Doppler suggestive of a patent foramen ovale with lipomatous hypertrophy of the interatrial septum.,11.  The study was somewhat technically limited and hence subtle abnormalities could be missed from the study.,'"
      ]
     },
     "execution_count": 21,
     "metadata": {},
     "output_type": "execute_result"
    }
   ],
   "source": [
    "df.transcription.iloc[1]"
   ]
  },
  {
   "cell_type": "code",
   "execution_count": 22,
   "metadata": {},
   "outputs": [
    {
     "data": {
      "text/html": [
       "<div>\n",
       "<style scoped>\n",
       "    .dataframe tbody tr th:only-of-type {\n",
       "        vertical-align: middle;\n",
       "    }\n",
       "\n",
       "    .dataframe tbody tr th {\n",
       "        vertical-align: top;\n",
       "    }\n",
       "\n",
       "    .dataframe thead th {\n",
       "        text-align: right;\n",
       "    }\n",
       "</style>\n",
       "<table border=\"1\" class=\"dataframe\">\n",
       "  <thead>\n",
       "    <tr style=\"text-align: right;\">\n",
       "      <th></th>\n",
       "      <th>Unnamed: 0</th>\n",
       "      <th>description</th>\n",
       "      <th>medical_specialty</th>\n",
       "      <th>sample_name</th>\n",
       "      <th>transcription</th>\n",
       "      <th>keywords</th>\n",
       "    </tr>\n",
       "  </thead>\n",
       "  <tbody>\n",
       "    <tr>\n",
       "      <th>3</th>\n",
       "      <td>3</td>\n",
       "      <td>2-D M-Mode. Doppler.</td>\n",
       "      <td>Cardiovascular / Pulmonary</td>\n",
       "      <td>2-D Echocardiogram - 1</td>\n",
       "      <td>2-D M-MODE: , ,1.  Left atrial enlargement wit...</td>\n",
       "      <td>cardiovascular / pulmonary, 2-d m-mode, dopple...</td>\n",
       "    </tr>\n",
       "    <tr>\n",
       "      <th>4</th>\n",
       "      <td>4</td>\n",
       "      <td>2-D Echocardiogram</td>\n",
       "      <td>Cardiovascular / Pulmonary</td>\n",
       "      <td>2-D Echocardiogram - 2</td>\n",
       "      <td>1.  The left ventricular cavity size and wall ...</td>\n",
       "      <td>cardiovascular / pulmonary, 2-d, doppler, echo...</td>\n",
       "    </tr>\n",
       "    <tr>\n",
       "      <th>7</th>\n",
       "      <td>7</td>\n",
       "      <td>2-D Echocardiogram</td>\n",
       "      <td>Cardiovascular / Pulmonary</td>\n",
       "      <td>2-D Echocardiogram - 3</td>\n",
       "      <td>2-D ECHOCARDIOGRAM,Multiple views of the heart...</td>\n",
       "      <td>cardiovascular / pulmonary, 2-d echocardiogram...</td>\n",
       "    </tr>\n",
       "    <tr>\n",
       "      <th>9</th>\n",
       "      <td>9</td>\n",
       "      <td>Echocardiogram and Doppler</td>\n",
       "      <td>Cardiovascular / Pulmonary</td>\n",
       "      <td>2-D Echocardiogram - 4</td>\n",
       "      <td>DESCRIPTION:,1.  Normal cardiac chambers size....</td>\n",
       "      <td>cardiovascular / pulmonary, ejection fraction,...</td>\n",
       "    </tr>\n",
       "    <tr>\n",
       "      <th>11</th>\n",
       "      <td>11</td>\n",
       "      <td>Normal left ventricle, moderate biatrial enla...</td>\n",
       "      <td>Cardiovascular / Pulmonary</td>\n",
       "      <td>2-D Doppler</td>\n",
       "      <td>2-D STUDY,1. Mild aortic stenosis, widely calc...</td>\n",
       "      <td>cardiovascular / pulmonary, 2-d study, doppler...</td>\n",
       "    </tr>\n",
       "    <tr>\n",
       "      <th>...</th>\n",
       "      <td>...</td>\n",
       "      <td>...</td>\n",
       "      <td>...</td>\n",
       "      <td>...</td>\n",
       "      <td>...</td>\n",
       "      <td>...</td>\n",
       "    </tr>\n",
       "    <tr>\n",
       "      <th>4972</th>\n",
       "      <td>4972</td>\n",
       "      <td>Adenosine with nuclear scan as the patient un...</td>\n",
       "      <td>Cardiovascular / Pulmonary</td>\n",
       "      <td>Adenosine Nuclear Scan</td>\n",
       "      <td>INDICATION: , Chest pain.,TYPE OF TEST: , Aden...</td>\n",
       "      <td>cardiovascular / pulmonary, adenosine nuclear ...</td>\n",
       "    </tr>\n",
       "    <tr>\n",
       "      <th>4973</th>\n",
       "      <td>4973</td>\n",
       "      <td>Patient presents with a chief complaint of ch...</td>\n",
       "      <td>Cardiovascular / Pulmonary</td>\n",
       "      <td>Acute Inferior Myocardial Infarction</td>\n",
       "      <td>CHIEF COMPLAINT: , Chest pain.,HISTORY OF PRES...</td>\n",
       "      <td>NaN</td>\n",
       "    </tr>\n",
       "    <tr>\n",
       "      <th>4974</th>\n",
       "      <td>4974</td>\n",
       "      <td>Patient had a recurrent left arm pain after h...</td>\n",
       "      <td>Cardiovascular / Pulmonary</td>\n",
       "      <td>Angina - Consult</td>\n",
       "      <td>HISTORY OF PRESENT ILLNESS: , The patient is a...</td>\n",
       "      <td>NaN</td>\n",
       "    </tr>\n",
       "    <tr>\n",
       "      <th>4975</th>\n",
       "      <td>4975</td>\n",
       "      <td>Patient had a markedly abnormal stress test w...</td>\n",
       "      <td>Cardiovascular / Pulmonary</td>\n",
       "      <td>Abnormal Stress Test</td>\n",
       "      <td>HISTORY OF PRESENT ILLNESS: , Mr. ABC is a 60-...</td>\n",
       "      <td>cardiovascular / pulmonary, standard bruce, ni...</td>\n",
       "    </tr>\n",
       "    <tr>\n",
       "      <th>4976</th>\n",
       "      <td>4976</td>\n",
       "      <td>Abnormal echocardiogram findings and followup...</td>\n",
       "      <td>Cardiovascular / Pulmonary</td>\n",
       "      <td>Abnormal Echocardiogram</td>\n",
       "      <td>REASON FOR CONSULTATION:  ,Abnormal echocardio...</td>\n",
       "      <td>NaN</td>\n",
       "    </tr>\n",
       "  </tbody>\n",
       "</table>\n",
       "<p>726 rows × 6 columns</p>\n",
       "</div>"
      ],
      "text/plain": [
       "      Unnamed: 0                                        description  \\\n",
       "3              3                             2-D M-Mode. Doppler.     \n",
       "4              4                                 2-D Echocardiogram   \n",
       "7              7                                 2-D Echocardiogram   \n",
       "9              9                         Echocardiogram and Doppler   \n",
       "11            11   Normal left ventricle, moderate biatrial enla...   \n",
       "...          ...                                                ...   \n",
       "4972        4972   Adenosine with nuclear scan as the patient un...   \n",
       "4973        4973   Patient presents with a chief complaint of ch...   \n",
       "4974        4974   Patient had a recurrent left arm pain after h...   \n",
       "4975        4975   Patient had a markedly abnormal stress test w...   \n",
       "4976        4976   Abnormal echocardiogram findings and followup...   \n",
       "\n",
       "                medical_specialty                             sample_name  \\\n",
       "3      Cardiovascular / Pulmonary                 2-D Echocardiogram - 1    \n",
       "4      Cardiovascular / Pulmonary                 2-D Echocardiogram - 2    \n",
       "7      Cardiovascular / Pulmonary                 2-D Echocardiogram - 3    \n",
       "9      Cardiovascular / Pulmonary                 2-D Echocardiogram - 4    \n",
       "11     Cardiovascular / Pulmonary                            2-D Doppler    \n",
       "...                           ...                                     ...   \n",
       "4972   Cardiovascular / Pulmonary                 Adenosine Nuclear Scan    \n",
       "4973   Cardiovascular / Pulmonary   Acute Inferior Myocardial Infarction    \n",
       "4974   Cardiovascular / Pulmonary                       Angina - Consult    \n",
       "4975   Cardiovascular / Pulmonary                   Abnormal Stress Test    \n",
       "4976   Cardiovascular / Pulmonary                Abnormal Echocardiogram    \n",
       "\n",
       "                                          transcription  \\\n",
       "3     2-D M-MODE: , ,1.  Left atrial enlargement wit...   \n",
       "4     1.  The left ventricular cavity size and wall ...   \n",
       "7     2-D ECHOCARDIOGRAM,Multiple views of the heart...   \n",
       "9     DESCRIPTION:,1.  Normal cardiac chambers size....   \n",
       "11    2-D STUDY,1. Mild aortic stenosis, widely calc...   \n",
       "...                                                 ...   \n",
       "4972  INDICATION: , Chest pain.,TYPE OF TEST: , Aden...   \n",
       "4973  CHIEF COMPLAINT: , Chest pain.,HISTORY OF PRES...   \n",
       "4974  HISTORY OF PRESENT ILLNESS: , The patient is a...   \n",
       "4975  HISTORY OF PRESENT ILLNESS: , Mr. ABC is a 60-...   \n",
       "4976  REASON FOR CONSULTATION:  ,Abnormal echocardio...   \n",
       "\n",
       "                                               keywords  \n",
       "3     cardiovascular / pulmonary, 2-d m-mode, dopple...  \n",
       "4     cardiovascular / pulmonary, 2-d, doppler, echo...  \n",
       "7     cardiovascular / pulmonary, 2-d echocardiogram...  \n",
       "9     cardiovascular / pulmonary, ejection fraction,...  \n",
       "11    cardiovascular / pulmonary, 2-d study, doppler...  \n",
       "...                                                 ...  \n",
       "4972  cardiovascular / pulmonary, adenosine nuclear ...  \n",
       "4973                                                NaN  \n",
       "4974                                                NaN  \n",
       "4975  cardiovascular / pulmonary, standard bruce, ni...  \n",
       "4976                                                NaN  \n",
       "\n",
       "[726 rows x 6 columns]"
      ]
     },
     "execution_count": 22,
     "metadata": {},
     "output_type": "execute_result"
    }
   ],
   "source": [
    "df"
   ]
  },
  {
   "cell_type": "code",
   "execution_count": 23,
   "metadata": {},
   "outputs": [
    {
     "data": {
      "text/plain": [
       "(726, 6)"
      ]
     },
     "execution_count": 23,
     "metadata": {},
     "output_type": "execute_result"
    }
   ],
   "source": [
    "df.shape"
   ]
  },
  {
   "cell_type": "code",
   "execution_count": 24,
   "metadata": {},
   "outputs": [],
   "source": [
    "from sklearn.pipeline import Pipeline\n",
    "from sklearn.feature_extraction.text import TfidfVectorizer,CountVectorizer\n",
    "from sklearn.naive_bayes import MultinomialNB\n",
    "from sklearn.svm import LinearSVC\n",
    "from sklearn.tree import DecisionTreeClassifier\n",
    "from sklearn.linear_model import LogisticRegression"
   ]
  },
  {
   "cell_type": "code",
   "execution_count": 25,
   "metadata": {},
   "outputs": [],
   "source": [
    "from sklearn.model_selection import train_test_split\n",
    "\n",
    "X = df['transcription']\n",
    "y = df['medical_specialty']\n",
    "\n",
    "X_train, X_test, y_train, y_test = train_test_split(X, y, test_size=0.30, random_state=123)"
   ]
  },
  {
   "cell_type": "code",
   "execution_count": 26,
   "metadata": {},
   "outputs": [],
   "source": [
    "text_clf_lr = Pipeline([('ct', TextClean(['transcription'])),\n",
    "                        ('Lemma', Lemmatize(['transcription'])),\n",
    "                        ('tfidf', TfidfVectorizer(max_df=.9,lowercase=True,ngram_range=(1,3), analyzer='word', stop_words='english',max_features=1000)),\n",
    "                        ('clf', LogisticRegression(solver='lbfgs')),\n",
    "])"
   ]
  },
  {
   "cell_type": "code",
   "execution_count": 27,
   "metadata": {},
   "outputs": [
    {
     "data": {
      "text/plain": [
       "3       2 - d M - MODE : , , 1 .   left atrial enlarge...\n",
       "4       1 .   the left ventricular cavity size and wal...\n",
       "7       2 - d echocardiogram , multiple view of the he...\n",
       "9       DESCRIPTION:,1 .   normal cardiac chamber size...\n",
       "11      2 - d study,1 . mild aortic stenosis , widely ...\n",
       "                              ...                        \n",
       "4972    indication : , chest pain . ,TYPE of TEST : , ...\n",
       "4973    CHIEF COMPLAINT : , chest pain . ,HISTORY of p...\n",
       "4974    history of present illness : , the patient be ...\n",
       "4975    history of present illness : , Mr. ABC be a 60...\n",
       "4976    reason for consultation :   , abnormal echocar...\n",
       "Name: transcription, Length: 726, dtype: object"
      ]
     },
     "execution_count": 27,
     "metadata": {},
     "output_type": "execute_result"
    }
   ],
   "source": [
    "ct=Lemmatize(['transcription'])\n",
    "ct.fit(X,y)\n",
    "ct.transform(X)"
   ]
  },
  {
   "cell_type": "code",
   "execution_count": 28,
   "metadata": {},
   "outputs": [
    {
     "data": {
      "text/plain": [
       "3       mmode left atrial enlargement left atrial diam...\n",
       "4       left ventricular cavity size wall thickness ap...\n",
       "7       echocardiogram multiple views heart great vess...\n",
       "9       description normal cardiac chambers size norma...\n",
       "11      study mild aortic stenosis widely calcified mi...\n",
       "                              ...                        \n",
       "4972    indication chest pain type test adenosine nucl...\n",
       "4973    chief complaint chest pain history present ill...\n",
       "4974    history present illness patient woman followin...\n",
       "4975    history present illness abc gentleman markedly...\n",
       "4976    reason consultation abnormal echocardiogram fi...\n",
       "Name: transcription, Length: 726, dtype: object"
      ]
     },
     "execution_count": 28,
     "metadata": {},
     "output_type": "execute_result"
    }
   ],
   "source": [
    "ct=TextClean(['transcription'])\n",
    "ct.fit(X,y)\n",
    "ct.transform(X)"
   ]
  },
  {
   "cell_type": "code",
   "execution_count": 29,
   "metadata": {},
   "outputs": [
    {
     "name": "stdout",
     "output_type": "stream",
     "text": [
      "0.9954128440366973\n",
      "                             precision    recall  f1-score   support\n",
      "\n",
      " Cardiovascular / Pulmonary       1.00      0.99      0.99        99\n",
      "                 Orthopedic       0.99      1.00      1.00       119\n",
      "\n",
      "                   accuracy                           1.00       218\n",
      "                  macro avg       1.00      0.99      1.00       218\n",
      "               weighted avg       1.00      1.00      1.00       218\n",
      "\n",
      "[[ 98   1]\n",
      " [  0 119]]\n"
     ]
    }
   ],
   "source": [
    "#Training the model\n",
    "text_clf_lr.fit(X_train, y_train)\n",
    "# Form a prediction set\n",
    "predictions = text_clf_lr.predict(X_test)\n",
    "\n",
    "\n",
    "from sklearn import metrics\n",
    "# Print the overall accuracy\n",
    "print(metrics.accuracy_score(y_test,predictions))\n",
    "\n",
    "# Print a classification report\n",
    "print(metrics.classification_report(y_test,predictions))\n",
    "\n",
    "# Report the confusion matrix\n",
    "print(metrics.confusion_matrix(y_test,predictions))"
   ]
  },
  {
   "cell_type": "code",
   "execution_count": 30,
   "metadata": {},
   "outputs": [
    {
     "name": "stdout",
     "output_type": "stream",
     "text": [
      "0.9954128440366973\n"
     ]
    }
   ],
   "source": [
    "import pickle\n",
    "\n",
    "filename = 'finalized_model.pkl'\n",
    "pickle.dump(text_clf_lr, open(filename, 'wb'))\n",
    "\n",
    "# load the model from disk\n",
    "loaded_model = pickle.load(open(filename, 'rb'))\n",
    "result = loaded_model.score(X_test, y_test)\n",
    "print(result)"
   ]
  },
  {
   "cell_type": "code",
   "execution_count": 31,
   "metadata": {},
   "outputs": [
    {
     "data": {
      "text/plain": [
       "array([' Cardiovascular / Pulmonary'], dtype=object)"
      ]
     },
     "execution_count": 31,
     "metadata": {},
     "output_type": "execute_result"
    }
   ],
   "source": [
    "loaded_model.predict(pd.DataFrame({'transcription':['ramesh orthopedic']}))"
   ]
  },
  {
   "cell_type": "code",
   "execution_count": null,
   "metadata": {},
   "outputs": [],
   "source": []
  },
  {
   "cell_type": "code",
   "execution_count": null,
   "metadata": {},
   "outputs": [],
   "source": []
  },
  {
   "cell_type": "code",
   "execution_count": null,
   "metadata": {},
   "outputs": [],
   "source": []
  },
  {
   "cell_type": "code",
   "execution_count": 35,
   "metadata": {},
   "outputs": [
    {
     "data": {
      "text/plain": [
       "array([[0.85548859, 0.14451141],\n",
       "       [0.37829886, 0.62170114],\n",
       "       [0.88651751, 0.11348249],\n",
       "       [0.89542355, 0.10457645],\n",
       "       [0.78083274, 0.21916726],\n",
       "       [0.92832091, 0.07167909],\n",
       "       [0.79922372, 0.20077628],\n",
       "       [0.13027393, 0.86972607],\n",
       "       [0.4143709 , 0.5856291 ],\n",
       "       [0.8987339 , 0.1012661 ],\n",
       "       [0.55481166, 0.44518834],\n",
       "       [0.79950134, 0.20049866],\n",
       "       [0.90877278, 0.09122722],\n",
       "       [0.81000583, 0.18999417],\n",
       "       [0.21788137, 0.78211863],\n",
       "       [0.24807238, 0.75192762],\n",
       "       [0.90445518, 0.09554482],\n",
       "       [0.19235025, 0.80764975],\n",
       "       [0.13208011, 0.86791989],\n",
       "       [0.42097408, 0.57902592],\n",
       "       [0.75153446, 0.24846554],\n",
       "       [0.17972105, 0.82027895],\n",
       "       [0.89605362, 0.10394638],\n",
       "       [0.86794215, 0.13205785],\n",
       "       [0.21457361, 0.78542639],\n",
       "       [0.92284131, 0.07715869],\n",
       "       [0.43926569, 0.56073431],\n",
       "       [0.10862649, 0.89137351],\n",
       "       [0.857811  , 0.142189  ],\n",
       "       [0.23229566, 0.76770434],\n",
       "       [0.39939936, 0.60060064],\n",
       "       [0.80537145, 0.19462855],\n",
       "       [0.44540945, 0.55459055],\n",
       "       [0.3708675 , 0.6291325 ],\n",
       "       [0.84678919, 0.15321081],\n",
       "       [0.6987259 , 0.3012741 ],\n",
       "       [0.34013538, 0.65986462],\n",
       "       [0.22276498, 0.77723502],\n",
       "       [0.64111946, 0.35888054],\n",
       "       [0.87207374, 0.12792626],\n",
       "       [0.18175859, 0.81824141],\n",
       "       [0.86970267, 0.13029733],\n",
       "       [0.69999018, 0.30000982],\n",
       "       [0.8797219 , 0.1202781 ],\n",
       "       [0.77177039, 0.22822961],\n",
       "       [0.92944254, 0.07055746],\n",
       "       [0.88324723, 0.11675277],\n",
       "       [0.62713052, 0.37286948],\n",
       "       [0.88579137, 0.11420863],\n",
       "       [0.75898763, 0.24101237],\n",
       "       [0.49845992, 0.50154008],\n",
       "       [0.76158318, 0.23841682],\n",
       "       [0.19995252, 0.80004748],\n",
       "       [0.76202696, 0.23797304],\n",
       "       [0.90689153, 0.09310847],\n",
       "       [0.1244597 , 0.8755403 ],\n",
       "       [0.39866819, 0.60133181],\n",
       "       [0.18902605, 0.81097395],\n",
       "       [0.11246477, 0.88753523],\n",
       "       [0.88090801, 0.11909199],\n",
       "       [0.3598154 , 0.6401846 ],\n",
       "       [0.15634579, 0.84365421],\n",
       "       [0.90559851, 0.09440149],\n",
       "       [0.18801224, 0.81198776],\n",
       "       [0.33391581, 0.66608419],\n",
       "       [0.27907707, 0.72092293],\n",
       "       [0.84795783, 0.15204217],\n",
       "       [0.34013538, 0.65986462],\n",
       "       [0.42249019, 0.57750981],\n",
       "       [0.93441984, 0.06558016],\n",
       "       [0.13511136, 0.86488864],\n",
       "       [0.22565893, 0.77434107],\n",
       "       [0.0950633 , 0.9049367 ],\n",
       "       [0.30037317, 0.69962683],\n",
       "       [0.19538851, 0.80461149],\n",
       "       [0.75954309, 0.24045691],\n",
       "       [0.92174988, 0.07825012],\n",
       "       [0.17319116, 0.82680884],\n",
       "       [0.73202225, 0.26797775],\n",
       "       [0.76876541, 0.23123459],\n",
       "       [0.84151387, 0.15848613],\n",
       "       [0.77875289, 0.22124711],\n",
       "       [0.8413906 , 0.1586094 ],\n",
       "       [0.29034867, 0.70965133],\n",
       "       [0.80403459, 0.19596541],\n",
       "       [0.90237177, 0.09762823],\n",
       "       [0.13636059, 0.86363941],\n",
       "       [0.23128853, 0.76871147],\n",
       "       [0.27923849, 0.72076151],\n",
       "       [0.42831461, 0.57168539],\n",
       "       [0.15614877, 0.84385123],\n",
       "       [0.92151556, 0.07848444],\n",
       "       [0.40727859, 0.59272141],\n",
       "       [0.85458629, 0.14541371],\n",
       "       [0.88548807, 0.11451193],\n",
       "       [0.92484732, 0.07515268],\n",
       "       [0.31259047, 0.68740953],\n",
       "       [0.19294295, 0.80705705],\n",
       "       [0.34083525, 0.65916475],\n",
       "       [0.46165742, 0.53834258],\n",
       "       [0.22787376, 0.77212624],\n",
       "       [0.77073455, 0.22926545],\n",
       "       [0.8100898 , 0.1899102 ],\n",
       "       [0.93561488, 0.06438512],\n",
       "       [0.87839629, 0.12160371],\n",
       "       [0.23184692, 0.76815308],\n",
       "       [0.92480325, 0.07519675],\n",
       "       [0.17092436, 0.82907564],\n",
       "       [0.56499065, 0.43500935],\n",
       "       [0.80785589, 0.19214411],\n",
       "       [0.35027511, 0.64972489],\n",
       "       [0.9070155 , 0.0929845 ],\n",
       "       [0.25787881, 0.74212119],\n",
       "       [0.90520337, 0.09479663],\n",
       "       [0.8883494 , 0.1116506 ],\n",
       "       [0.16570005, 0.83429995],\n",
       "       [0.89108182, 0.10891818],\n",
       "       [0.90880388, 0.09119612],\n",
       "       [0.33250306, 0.66749694],\n",
       "       [0.09653757, 0.90346243],\n",
       "       [0.46165742, 0.53834258],\n",
       "       [0.79713356, 0.20286644],\n",
       "       [0.54944665, 0.45055335],\n",
       "       [0.17879115, 0.82120885],\n",
       "       [0.8731276 , 0.1268724 ],\n",
       "       [0.90583941, 0.09416059],\n",
       "       [0.80466038, 0.19533962],\n",
       "       [0.23315611, 0.76684389],\n",
       "       [0.87195829, 0.12804171],\n",
       "       [0.12169454, 0.87830546],\n",
       "       [0.16570649, 0.83429351],\n",
       "       [0.36230072, 0.63769928],\n",
       "       [0.78763039, 0.21236961],\n",
       "       [0.31913201, 0.68086799],\n",
       "       [0.80164441, 0.19835559],\n",
       "       [0.84912142, 0.15087858],\n",
       "       [0.53297991, 0.46702009],\n",
       "       [0.85761575, 0.14238425],\n",
       "       [0.17702975, 0.82297025],\n",
       "       [0.87987985, 0.12012015],\n",
       "       [0.3708675 , 0.6291325 ],\n",
       "       [0.91349487, 0.08650513],\n",
       "       [0.21158981, 0.78841019],\n",
       "       [0.83881956, 0.16118044],\n",
       "       [0.85955746, 0.14044254],\n",
       "       [0.2172562 , 0.7827438 ],\n",
       "       [0.30252318, 0.69747682],\n",
       "       [0.21116609, 0.78883391],\n",
       "       [0.41577679, 0.58422321],\n",
       "       [0.71820581, 0.28179419],\n",
       "       [0.43926569, 0.56073431],\n",
       "       [0.6267977 , 0.3732023 ],\n",
       "       [0.11579095, 0.88420905],\n",
       "       [0.14861241, 0.85138759],\n",
       "       [0.91134125, 0.08865875],\n",
       "       [0.52196545, 0.47803455],\n",
       "       [0.484226  , 0.515774  ],\n",
       "       [0.23294294, 0.76705706],\n",
       "       [0.8387542 , 0.1612458 ],\n",
       "       [0.53066233, 0.46933767],\n",
       "       [0.83218921, 0.16781079],\n",
       "       [0.08968483, 0.91031517],\n",
       "       [0.6987259 , 0.3012741 ],\n",
       "       [0.80591144, 0.19408856],\n",
       "       [0.89984042, 0.10015958],\n",
       "       [0.83126484, 0.16873516],\n",
       "       [0.17821765, 0.82178235],\n",
       "       [0.1231534 , 0.8768466 ],\n",
       "       [0.40942416, 0.59057584],\n",
       "       [0.81624286, 0.18375714],\n",
       "       [0.68166398, 0.31833602],\n",
       "       [0.86861751, 0.13138249],\n",
       "       [0.89806257, 0.10193743],\n",
       "       [0.18370674, 0.81629326],\n",
       "       [0.55488129, 0.44511871],\n",
       "       [0.58539747, 0.41460253],\n",
       "       [0.93003541, 0.06996459],\n",
       "       [0.13386441, 0.86613559],\n",
       "       [0.62961396, 0.37038604],\n",
       "       [0.90322539, 0.09677461],\n",
       "       [0.28602176, 0.71397824],\n",
       "       [0.44684145, 0.55315855],\n",
       "       [0.34187981, 0.65812019],\n",
       "       [0.14461601, 0.85538399],\n",
       "       [0.25873236, 0.74126764],\n",
       "       [0.87916941, 0.12083059],\n",
       "       [0.36034437, 0.63965563],\n",
       "       [0.90713738, 0.09286262],\n",
       "       [0.91823723, 0.08176277]])"
      ]
     },
     "execution_count": 35,
     "metadata": {},
     "output_type": "execute_result"
    }
   ],
   "source": [
    "probability=text_clf_lr.predict_proba(X_test)\n",
    "probability"
   ]
  },
  {
   "cell_type": "code",
   "execution_count": 36,
   "metadata": {},
   "outputs": [
    {
     "data": {
      "text/html": [
       "<div>\n",
       "<style scoped>\n",
       "    .dataframe tbody tr th:only-of-type {\n",
       "        vertical-align: middle;\n",
       "    }\n",
       "\n",
       "    .dataframe tbody tr th {\n",
       "        vertical-align: top;\n",
       "    }\n",
       "\n",
       "    .dataframe thead th {\n",
       "        text-align: right;\n",
       "    }\n",
       "</style>\n",
       "<table border=\"1\" class=\"dataframe\">\n",
       "  <thead>\n",
       "    <tr style=\"text-align: right;\">\n",
       "      <th></th>\n",
       "      <th>transcription</th>\n",
       "      <th>prediction</th>\n",
       "      <th>actual_label</th>\n",
       "      <th>probability</th>\n",
       "    </tr>\n",
       "  </thead>\n",
       "  <tbody>\n",
       "    <tr>\n",
       "      <th>2195</th>\n",
       "      <td>reason evaluation</td>\n",
       "      <td>Radiology</td>\n",
       "      <td>Orthopedic</td>\n",
       "      <td>[0.3782988562830899, 0.6217011437169101]</td>\n",
       "    </tr>\n",
       "    <tr>\n",
       "      <th>1540</th>\n",
       "      <td>exam right foot series reason exam injury find...</td>\n",
       "      <td>Orthopedic</td>\n",
       "      <td>Radiology</td>\n",
       "      <td>[0.554811656706671, 0.44518834329332896]</td>\n",
       "    </tr>\n",
       "    <tr>\n",
       "      <th>2037</th>\n",
       "      <td>exam three view right foot reason exam right f...</td>\n",
       "      <td>Radiology</td>\n",
       "      <td>Orthopedic</td>\n",
       "      <td>[0.37086750287135817, 0.6291324971286418]</td>\n",
       "    </tr>\n",
       "    <tr>\n",
       "      <th>1617</th>\n",
       "      <td>preoperative diagnosis low back pain postopera...</td>\n",
       "      <td>Orthopedic</td>\n",
       "      <td>Radiology</td>\n",
       "      <td>[0.6987258976405326, 0.3012741023594674]</td>\n",
       "    </tr>\n",
       "    <tr>\n",
       "      <th>2261</th>\n",
       "      <td>head without contrast cervical spine without c...</td>\n",
       "      <td>Radiology</td>\n",
       "      <td>Orthopedic</td>\n",
       "      <td>[0.34013538085577066, 0.6598646191442293]</td>\n",
       "    </tr>\n",
       "    <tr>\n",
       "      <th>1571</th>\n",
       "      <td>exam mri leave knee without contrast clinical ...</td>\n",
       "      <td>Orthopedic</td>\n",
       "      <td>Radiology</td>\n",
       "      <td>[0.6271305157584042, 0.37286948424159577]</td>\n",
       "    </tr>\n",
       "    <tr>\n",
       "      <th>2268</th>\n",
       "      <td>exam cervical spine cspine trauma finding exam...</td>\n",
       "      <td>Radiology</td>\n",
       "      <td>Orthopedic</td>\n",
       "      <td>[0.4984599167401187, 0.5015400832598813]</td>\n",
       "    </tr>\n",
       "    <tr>\n",
       "      <th>2128</th>\n",
       "      <td>progressive low extremity weakness rhf present...</td>\n",
       "      <td>Radiology</td>\n",
       "      <td>Orthopedic</td>\n",
       "      <td>[0.35981539601966706, 0.640184603980333]</td>\n",
       "    </tr>\n",
       "    <tr>\n",
       "      <th>1620</th>\n",
       "      <td>preoperative diagnosis ovarian cyst persistent...</td>\n",
       "      <td>Orthopedic</td>\n",
       "      <td>Radiology</td>\n",
       "      <td>[0.768765411720733, 0.23123458827926704]</td>\n",
       "    </tr>\n",
       "    <tr>\n",
       "      <th>2112</th>\n",
       "      <td>bilateral low extremity numbness rhm complain ...</td>\n",
       "      <td>Radiology</td>\n",
       "      <td>Orthopedic</td>\n",
       "      <td>[0.4283146114592681, 0.5716853885407319]</td>\n",
       "    </tr>\n",
       "    <tr>\n",
       "      <th>2136</th>\n",
       "      <td>exam mri leave shoulder clinical female left s...</td>\n",
       "      <td>Radiology</td>\n",
       "      <td>Orthopedic</td>\n",
       "      <td>[0.40727859044258274, 0.5927214095574173]</td>\n",
       "    </tr>\n",
       "    <tr>\n",
       "      <th>2036</th>\n",
       "      <td>exam three view right ankle indication pain fi...</td>\n",
       "      <td>Radiology</td>\n",
       "      <td>Orthopedic</td>\n",
       "      <td>[0.3408352493292235, 0.6591647506707765]</td>\n",
       "    </tr>\n",
       "    <tr>\n",
       "      <th>2131</th>\n",
       "      <td>exam mri lumbar spine without contrast history...</td>\n",
       "      <td>Radiology</td>\n",
       "      <td>Orthopedic</td>\n",
       "      <td>[0.4616574203711893, 0.5383425796288107]</td>\n",
       "    </tr>\n",
       "    <tr>\n",
       "      <th>1561</th>\n",
       "      <td>exam mri leave shoulder clinical year old hist...</td>\n",
       "      <td>Orthopedic</td>\n",
       "      <td>Radiology</td>\n",
       "      <td>[0.5649906514458688, 0.4350093485541312]</td>\n",
       "    </tr>\n",
       "    <tr>\n",
       "      <th>2123</th>\n",
       "      <td>exam thoracic spine reason exam injury interpr...</td>\n",
       "      <td>Radiology</td>\n",
       "      <td>Orthopedic</td>\n",
       "      <td>[0.3502751144041415, 0.6497248855958585]</td>\n",
       "    </tr>\n",
       "    <tr>\n",
       "      <th>2137</th>\n",
       "      <td>low back pain lbp associate ble weakness rhm p...</td>\n",
       "      <td>Radiology</td>\n",
       "      <td>Orthopedic</td>\n",
       "      <td>[0.3325030606197933, 0.6674969393802067]</td>\n",
       "    </tr>\n",
       "    <tr>\n",
       "      <th>2122</th>\n",
       "      <td>ble weakness rhm refer neurology service neuro...</td>\n",
       "      <td>Radiology</td>\n",
       "      <td>Orthopedic</td>\n",
       "      <td>[0.23315611190803187, 0.7668438880919681]</td>\n",
       "    </tr>\n",
       "    <tr>\n",
       "      <th>2255</th>\n",
       "      <td>exam lumbar spine without contrast history bac...</td>\n",
       "      <td>Radiology</td>\n",
       "      <td>Orthopedic</td>\n",
       "      <td>[0.36230071780920314, 0.6376992821907969]</td>\n",
       "    </tr>\n",
       "    <tr>\n",
       "      <th>1682</th>\n",
       "      <td>exam noncontrast scan lumbar spine reason exam...</td>\n",
       "      <td>Orthopedic</td>\n",
       "      <td>Radiology</td>\n",
       "      <td>[0.5329799052506254, 0.46702009474937456]</td>\n",
       "    </tr>\n",
       "    <tr>\n",
       "      <th>2156</th>\n",
       "      <td>sensory loss rhf begin experience pruritus rue...</td>\n",
       "      <td>Radiology</td>\n",
       "      <td>Orthopedic</td>\n",
       "      <td>[0.17702974794094595, 0.822970252059054]</td>\n",
       "    </tr>\n",
       "    <tr>\n",
       "      <th>1519</th>\n",
       "      <td>preoperative diagnosis hallux abductovalgus de...</td>\n",
       "      <td>Orthopedic</td>\n",
       "      <td>Radiology</td>\n",
       "      <td>[0.9134948735145264, 0.08650512648547355]</td>\n",
       "    </tr>\n",
       "    <tr>\n",
       "      <th>2138</th>\n",
       "      <td>exam mriup ext joint leave shoulder clinical l...</td>\n",
       "      <td>Radiology</td>\n",
       "      <td>Orthopedic</td>\n",
       "      <td>[0.4392656872820766, 0.5607343127179234]</td>\n",
       "    </tr>\n",
       "    <tr>\n",
       "      <th>1579</th>\n",
       "      <td>exam mri leave knee without contrast clinical ...</td>\n",
       "      <td>Orthopedic</td>\n",
       "      <td>Radiology</td>\n",
       "      <td>[0.6267976992366044, 0.37320230076339556]</td>\n",
       "    </tr>\n",
       "    <tr>\n",
       "      <th>1676</th>\n",
       "      <td>finding axial scan perform reformatte image ob...</td>\n",
       "      <td>Orthopedic</td>\n",
       "      <td>Radiology</td>\n",
       "      <td>[0.521965450282907, 0.47803454971709297]</td>\n",
       "    </tr>\n",
       "    <tr>\n",
       "      <th>2143</th>\n",
       "      <td>exam mri leave foot clinical female ankle pain...</td>\n",
       "      <td>Radiology</td>\n",
       "      <td>Orthopedic</td>\n",
       "      <td>[0.48422600132742355, 0.5157739986725765]</td>\n",
       "    </tr>\n",
       "    <tr>\n",
       "      <th>1560</th>\n",
       "      <td>exam mri leave shoulder clinical male pain sho...</td>\n",
       "      <td>Orthopedic</td>\n",
       "      <td>Radiology</td>\n",
       "      <td>[0.5853974676323142, 0.41460253236768585]</td>\n",
       "    </tr>\n",
       "    <tr>\n",
       "      <th>2141</th>\n",
       "      <td>exam mri right foot clinical pain swell right ...</td>\n",
       "      <td>Radiology</td>\n",
       "      <td>Orthopedic</td>\n",
       "      <td>[0.44684145186548874, 0.5531585481345113]</td>\n",
       "    </tr>\n",
       "  </tbody>\n",
       "</table>\n",
       "</div>"
      ],
      "text/plain": [
       "                                          transcription   prediction  \\\n",
       "2195                                  reason evaluation    Radiology   \n",
       "1540  exam right foot series reason exam injury find...   Orthopedic   \n",
       "2037  exam three view right foot reason exam right f...    Radiology   \n",
       "1617  preoperative diagnosis low back pain postopera...   Orthopedic   \n",
       "2261  head without contrast cervical spine without c...    Radiology   \n",
       "1571  exam mri leave knee without contrast clinical ...   Orthopedic   \n",
       "2268  exam cervical spine cspine trauma finding exam...    Radiology   \n",
       "2128  progressive low extremity weakness rhf present...    Radiology   \n",
       "1620  preoperative diagnosis ovarian cyst persistent...   Orthopedic   \n",
       "2112  bilateral low extremity numbness rhm complain ...    Radiology   \n",
       "2136  exam mri leave shoulder clinical female left s...    Radiology   \n",
       "2036  exam three view right ankle indication pain fi...    Radiology   \n",
       "2131  exam mri lumbar spine without contrast history...    Radiology   \n",
       "1561  exam mri leave shoulder clinical year old hist...   Orthopedic   \n",
       "2123  exam thoracic spine reason exam injury interpr...    Radiology   \n",
       "2137  low back pain lbp associate ble weakness rhm p...    Radiology   \n",
       "2122  ble weakness rhm refer neurology service neuro...    Radiology   \n",
       "2255  exam lumbar spine without contrast history bac...    Radiology   \n",
       "1682  exam noncontrast scan lumbar spine reason exam...   Orthopedic   \n",
       "2156  sensory loss rhf begin experience pruritus rue...    Radiology   \n",
       "1519  preoperative diagnosis hallux abductovalgus de...   Orthopedic   \n",
       "2138  exam mriup ext joint leave shoulder clinical l...    Radiology   \n",
       "1579  exam mri leave knee without contrast clinical ...   Orthopedic   \n",
       "1676  finding axial scan perform reformatte image ob...   Orthopedic   \n",
       "2143  exam mri leave foot clinical female ankle pain...    Radiology   \n",
       "1560  exam mri leave shoulder clinical male pain sho...   Orthopedic   \n",
       "2141  exam mri right foot clinical pain swell right ...    Radiology   \n",
       "\n",
       "     actual_label                                probability  \n",
       "2195   Orthopedic   [0.3782988562830899, 0.6217011437169101]  \n",
       "1540    Radiology   [0.554811656706671, 0.44518834329332896]  \n",
       "2037   Orthopedic  [0.37086750287135817, 0.6291324971286418]  \n",
       "1617    Radiology   [0.6987258976405326, 0.3012741023594674]  \n",
       "2261   Orthopedic  [0.34013538085577066, 0.6598646191442293]  \n",
       "1571    Radiology  [0.6271305157584042, 0.37286948424159577]  \n",
       "2268   Orthopedic   [0.4984599167401187, 0.5015400832598813]  \n",
       "2128   Orthopedic   [0.35981539601966706, 0.640184603980333]  \n",
       "1620    Radiology   [0.768765411720733, 0.23123458827926704]  \n",
       "2112   Orthopedic   [0.4283146114592681, 0.5716853885407319]  \n",
       "2136   Orthopedic  [0.40727859044258274, 0.5927214095574173]  \n",
       "2036   Orthopedic   [0.3408352493292235, 0.6591647506707765]  \n",
       "2131   Orthopedic   [0.4616574203711893, 0.5383425796288107]  \n",
       "1561    Radiology   [0.5649906514458688, 0.4350093485541312]  \n",
       "2123   Orthopedic   [0.3502751144041415, 0.6497248855958585]  \n",
       "2137   Orthopedic   [0.3325030606197933, 0.6674969393802067]  \n",
       "2122   Orthopedic  [0.23315611190803187, 0.7668438880919681]  \n",
       "2255   Orthopedic  [0.36230071780920314, 0.6376992821907969]  \n",
       "1682    Radiology  [0.5329799052506254, 0.46702009474937456]  \n",
       "2156   Orthopedic   [0.17702974794094595, 0.822970252059054]  \n",
       "1519    Radiology  [0.9134948735145264, 0.08650512648547355]  \n",
       "2138   Orthopedic   [0.4392656872820766, 0.5607343127179234]  \n",
       "1579    Radiology  [0.6267976992366044, 0.37320230076339556]  \n",
       "1676    Radiology   [0.521965450282907, 0.47803454971709297]  \n",
       "2143   Orthopedic  [0.48422600132742355, 0.5157739986725765]  \n",
       "1560    Radiology  [0.5853974676323142, 0.41460253236768585]  \n",
       "2141   Orthopedic  [0.44684145186548874, 0.5531585481345113]  "
      ]
     },
     "execution_count": 36,
     "metadata": {},
     "output_type": "execute_result"
    }
   ],
   "source": [
    "predict_summary=pd.DataFrame({'transcription':X_test,'prediction':predictions,'actual_label' : y_test,'probability':list(probability)})\n",
    "wrong_predict=predict_summary[predict_summary.prediction!=predict_summary.actual_label]\n",
    "wrong_predict.head(27)"
   ]
  },
  {
   "cell_type": "code",
   "execution_count": 38,
   "metadata": {},
   "outputs": [
    {
     "data": {
      "text/plain": [
       "'exam mri leave shoulder clinical male pain shoulder evaluate rotator cuff tear finding examination perform marked supraspinatus tendinosis extensive tear substance tendon articular surface extend myotendinous junction well still small rim tendon along bursal surface although may small tear level rotator interval retract tendon muscular atrophy series image normal infraspinatus tendon subscapularis tendinosis fray partial tear superior fiber extend level rotator interval series image series image complete tear gap fiber retraction muscular atrophy tendinosis superficial tearing long bicep tendon within bicipital groove high grade near complete partial tearing intracapsular portion tendon bicep anchor intact degenerative change great tuberosity humerus fracture subluxation degeneration superior labrum small nondisplaced tear posterior superior labrum one two oclock position series image series image series image small sublabral foramen eleven oclock position series image osseous bankart lesion normal superior middle inferior glenohumeral ligament hypertrophic osteoarthropathy acromioclavicular joint narrow subacromial space flatten superior surface supraspinatus musculotendinous junction appropriate clinical set mri manifestation impinge lesion series image normal coracoacromial coracohumeral coracoclavicular ligament minimal fluid within glenohumeral joint atrophy deltoid muscle impression extensive supraspinatus tendinosis partial tearing describe retract tendon muscular atrophy may small tear along anterior edge tendon level rotator interval associate partial tear superior fiber subscapularis tendon also highgrade partial tear long bicep tendon course transverse humeral ligament evidence complete tear retract tendon small nondisplaced posterior superior labral tear outlet narrow acromioclavicular joint appropriate clinical set mri manifestation impinge lesion'"
      ]
     },
     "execution_count": 38,
     "metadata": {},
     "output_type": "execute_result"
    }
   ],
   "source": [
    "wrong_predict.transcription[1560]"
   ]
  },
  {
   "cell_type": "code",
   "execution_count": 39,
   "metadata": {},
   "outputs": [],
   "source": [
    "lr_probs=probability[:,1]"
   ]
  },
  {
   "cell_type": "code",
   "execution_count": 40,
   "metadata": {},
   "outputs": [],
   "source": [
    "r_auc = metrics.roc_auc_score(y_test, lr_probs)"
   ]
  },
  {
   "cell_type": "code",
   "execution_count": 41,
   "metadata": {},
   "outputs": [
    {
     "data": {
      "text/plain": [
       "0.9458733424782807"
      ]
     },
     "execution_count": 41,
     "metadata": {},
     "output_type": "execute_result"
    }
   ],
   "source": [
    "r_auc"
   ]
  },
  {
   "cell_type": "code",
   "execution_count": 42,
   "metadata": {},
   "outputs": [],
   "source": [
    "fpr, tpr, thresholds = metrics.roc_curve(y_test, lr_probs,pos_label=text_clf_lr.classes_[1])"
   ]
  },
  {
   "cell_type": "code",
   "execution_count": 43,
   "metadata": {},
   "outputs": [
    {
     "data": {
      "image/png": "[encoded data removed]",
      "text/plain": [
       "<Figure size 720x720 with 1 Axes>"
      ]
     },
     "metadata": {
      "needs_background": "light"
     },
     "output_type": "display_data"
    }
   ],
   "source": [
    "plt.figure(figsize=(10,10))\n",
    "plt.plot([0,1], [0,1], linestyle='--', label='No Skill')\n",
    "plt.plot(fpr, tpr, marker='.', label='Logistic')\n",
    "# axis labels\n",
    "plt.xlabel('False Positive Rate')\n",
    "plt.ylabel('True Positive Rate')\n",
    "plt.legend()\n",
    "# show the plot\n",
    "plt.show()"
   ]
  },
  {
   "cell_type": "code",
   "execution_count": 44,
   "metadata": {},
   "outputs": [
    {
     "data": {
      "text/plain": [
       "<sklearn.metrics._plot.roc_curve.RocCurveDisplay at 0x2abbea17220>"
      ]
     },
     "execution_count": 44,
     "metadata": {},
     "output_type": "execute_result"
    },
    {
     "data": {
      "image/png": "[encoded data removed]",
      "text/plain": [
       "<Figure size 432x288 with 1 Axes>"
      ]
     },
     "metadata": {
      "needs_background": "light"
     },
     "output_type": "display_data"
    }
   ],
   "source": [
    "metrics.plot_roc_curve(text_clf_lr, X_test, y_test)"
   ]
  },
  {
   "cell_type": "code",
   "execution_count": 45,
   "metadata": {},
   "outputs": [
    {
     "name": "stdout",
     "output_type": "stream",
     "text": [
      "Best Threshold=0.37286948424159577, G-Mean=0.8857970920815851\n"
     ]
    }
   ],
   "source": [
    "gmeans = np.sqrt(tpr * (1-fpr))\n",
    "# locate the index of the largest g-mean\n",
    "ix = np.argmax(gmeans)\n",
    "print(f'Best Threshold={thresholds[ix]}, G-Mean={gmeans[ix]}')"
   ]
  },
  {
   "cell_type": "code",
   "execution_count": 46,
   "metadata": {},
   "outputs": [],
   "source": [
    "precision, recall, thresholds = metrics.precision_recall_curve(y_test, lr_probs,pos_label=text_clf_lr.classes_[1])"
   ]
  },
  {
   "cell_type": "code",
   "execution_count": 47,
   "metadata": {},
   "outputs": [
    {
     "data": {
      "image/png": "[encoded data removed]",
      "text/plain": [
       "<Figure size 720x720 with 1 Axes>"
      ]
     },
     "metadata": {
      "needs_background": "light"
     },
     "output_type": "display_data"
    }
   ],
   "source": [
    "plt.figure(figsize=(10,10))\n",
    "plt.plot(recall, precision, marker='.', label='Logistic')\n",
    "# axis labels\n",
    "plt.xlabel('Recall')\n",
    "plt.ylabel('Precision')\n",
    "plt.legend()\n",
    "# show the plot\n",
    "plt.show()"
   ]
  },
  {
   "cell_type": "code",
   "execution_count": 48,
   "metadata": {},
   "outputs": [
    {
     "name": "stdout",
     "output_type": "stream",
     "text": [
      "Best Threshold=0.37286948424159577, F-Score=0.871508379888268, Recall=0.9629629629629629,Precission=0.7959183673469388\n"
     ]
    }
   ],
   "source": [
    "fscore = (2 * precision * recall) / (precision + recall)\n",
    "# locate the index of the largest f score\n",
    "ix = np.argmax(fscore)\n",
    "print(f'Best Threshold={thresholds[ix]}, F-Score={fscore[ix]}, Recall={recall[ix]},Precission={precision[ix]}')"
   ]
  },
  {
   "cell_type": "code",
   "execution_count": 49,
   "metadata": {},
   "outputs": [
    {
     "data": {
      "image/png": "[encoded data removed]",
      "text/plain": [
       "<Figure size 720x720 with 1 Axes>"
      ]
     },
     "metadata": {
      "needs_background": "light"
     },
     "output_type": "display_data"
    }
   ],
   "source": [
    "plt.figure(figsize=(10,10))\n",
    "no_skill = len(y_test[y_test==1]) / len(y_test)\n",
    "plt.plot([0,1], [no_skill,no_skill], linestyle='--', label='No Skill')\n",
    "plt.plot( thresholds,recall[0:len(recall)-1], marker='.', label='Recall')\n",
    "plt.plot( thresholds,precision[0:len(precision)-1], marker='.', label='Precission')\n",
    "# axis labels\n",
    "plt.xlabel('Threshold')\n",
    "plt.ylabel('Precision/Recall')\n",
    "plt.legend()\n",
    "# show the plot\n",
    "plt.show()"
   ]
  },
  {
   "cell_type": "code",
   "execution_count": null,
   "metadata": {},
   "outputs": [],
   "source": []
  },
  {
   "cell_type": "code",
   "execution_count": null,
   "metadata": {},
   "outputs": [],
   "source": []
  },
  {
   "cell_type": "code",
   "execution_count": null,
   "metadata": {},
   "outputs": [],
   "source": []
  },
  {
   "cell_type": "code",
   "execution_count": null,
   "metadata": {},
   "outputs": [],
   "source": []
  },
  {
   "cell_type": "code",
   "execution_count": null,
   "metadata": {},
   "outputs": [],
   "source": []
  },
  {
   "cell_type": "code",
   "execution_count": 50,
   "metadata": {},
   "outputs": [
    {
     "name": "stdout",
     "output_type": "stream",
     "text": [
      "0.8571428571428571\n",
      "              precision    recall  f1-score   support\n",
      "\n",
      "  Orthopedic       0.92      0.82      0.87       108\n",
      "   Radiology       0.79      0.90      0.84        81\n",
      "\n",
      "    accuracy                           0.86       189\n",
      "   macro avg       0.86      0.86      0.86       189\n",
      "weighted avg       0.86      0.86      0.86       189\n",
      "\n"
     ]
    }
   ],
   "source": [
    "text_clf_nb = Pipeline([('tfidf', TfidfVectorizer(max_df=.9,min_df=2,lowercase=True,ngram_range=(1,4), analyzer='word', stop_words='english', max_features=1000)),\n",
    "                     ('clf', MultinomialNB()),\n",
    "])\n",
    "\n",
    "#Training the model\n",
    "text_clf_nb.fit(X_train, y_train)\n",
    "# Form a prediction set\n",
    "predictions = text_clf_nb.predict(X_test)\n",
    "\n",
    "# Report the confusion matrix\n",
    "from sklearn import metrics\n",
    "# Print the overall accuracy\n",
    "print(metrics.accuracy_score(y_test,predictions))\n",
    "\n",
    "# Print a classification report\n",
    "print(metrics.classification_report(y_test,predictions))"
   ]
  },
  {
   "cell_type": "code",
   "execution_count": null,
   "metadata": {},
   "outputs": [],
   "source": []
  },
  {
   "cell_type": "code",
   "execution_count": null,
   "metadata": {},
   "outputs": [],
   "source": []
  },
  {
   "cell_type": "code",
   "execution_count": null,
   "metadata": {},
   "outputs": [],
   "source": []
  },
  {
   "cell_type": "code",
   "execution_count": null,
   "metadata": {},
   "outputs": [],
   "source": []
  },
  {
   "cell_type": "code",
   "execution_count": null,
   "metadata": {},
   "outputs": [],
   "source": []
  },
  {
   "cell_type": "code",
   "execution_count": null,
   "metadata": {},
   "outputs": [],
   "source": [
    "\n",
    "df['clean_desc'] = df.description.apply(text_cleaning).apply(lemmatize)"
   ]
  },
  {
   "cell_type": "code",
   "execution_count": null,
   "metadata": {},
   "outputs": [],
   "source": [
    "df.clean_desc"
   ]
  },
  {
   "cell_type": "code",
   "execution_count": null,
   "metadata": {},
   "outputs": [],
   "source": [
    "df.shape"
   ]
  },
  {
   "cell_type": "code",
   "execution_count": null,
   "metadata": {},
   "outputs": [],
   "source": [
    "from sklearn.model_selection import train_test_split\n",
    "\n",
    "X = df.clean_desc\n",
    "y = df.medical_specialty\n",
    "\n",
    "X_train, X_test, y_train, y_test = train_test_split(X, y, test_size=0.30, random_state=123)"
   ]
  },
  {
   "cell_type": "code",
   "execution_count": null,
   "metadata": {},
   "outputs": [],
   "source": [
    "text_clf_lr = Pipeline([('tfidf', TfidfVectorizer(max_df=.9,min_df=2,lowercase=True,ngram_range=(1,4), analyzer='word', stop_words='english', max_features=1000)),\n",
    "                     ('clf', LogisticRegression(solver='lbfgs')),\n",
    "])"
   ]
  },
  {
   "cell_type": "code",
   "execution_count": null,
   "metadata": {},
   "outputs": [],
   "source": [
    "#Training the model\n",
    "text_clf_lr.fit(X_train, y_train)\n",
    "# Form a prediction set\n",
    "predictions = text_clf_lr.predict(X_test,)\n",
    "\n",
    "# Report the confusion matrix\n",
    "from sklearn import metrics\n",
    "# Print the overall accuracy\n",
    "print(metrics.accuracy_score(y_test,predictions))\n",
    "\n",
    "# Print a classification report\n",
    "print(metrics.classification_report(y_test,predictions))"
   ]
  },
  {
   "cell_type": "code",
   "execution_count": null,
   "metadata": {},
   "outputs": [],
   "source": []
  },
  {
   "cell_type": "code",
   "execution_count": null,
   "metadata": {},
   "outputs": [],
   "source": []
  },
  {
   "cell_type": "code",
   "execution_count": null,
   "metadata": {},
   "outputs": [],
   "source": []
  },
  {
   "cell_type": "code",
   "execution_count": null,
   "metadata": {},
   "outputs": [],
   "source": []
  },
  {
   "cell_type": "code",
   "execution_count": null,
   "metadata": {},
   "outputs": [],
   "source": []
  },
  {
   "cell_type": "code",
   "execution_count": null,
   "metadata": {},
   "outputs": [],
   "source": []
  },
  {
   "cell_type": "code",
   "execution_count": null,
   "metadata": {},
   "outputs": [],
   "source": []
  },
  {
   "cell_type": "code",
   "execution_count": null,
   "metadata": {},
   "outputs": [],
   "source": []
  },
  {
   "cell_type": "code",
   "execution_count": null,
   "metadata": {
    "id": "joMo5QrSYmQ_"
   },
   "outputs": [],
   "source": [
    "from sklearn.model_selection import train_test_split\n",
    "X = df.cleaned_transcription\n",
    "y = df.medical_specialty.apply(lambda x: 1 if x==' Radiology' else 0)\n",
    "X_train, X_test, y_train, y_test = train_test_split(X, y, test_size = 0.30, random_state=123)"
   ]
  },
  {
   "cell_type": "code",
   "execution_count": null,
   "metadata": {},
   "outputs": [],
   "source": [
    "top_words = 10000 #Vocablury size\n",
    "t = tf.keras.preprocessing.text.Tokenizer(num_words=top_words) # num_words -> Vocablury size\n",
    "\n",
    "#Fit tokenizer with actual training data\n",
    "t.fit_on_texts(X_train)\n",
    "\n",
    "#Vocabulary\n",
    "t.word_index\n"
   ]
  },
  {
   "cell_type": "code",
   "execution_count": null,
   "metadata": {},
   "outputs": [],
   "source": [
    "X_train = t.texts_to_sequences(X_train)\n",
    "X_train"
   ]
  },
  {
   "cell_type": "code",
   "execution_count": null,
   "metadata": {},
   "outputs": [],
   "source": [
    "\n",
    "X_test = t.texts_to_sequences(X_test)\n",
    "X_test"
   ]
  },
  {
   "cell_type": "code",
   "execution_count": null,
   "metadata": {},
   "outputs": [],
   "source": [
    "\n",
    "#Define maximum number of words to consider in each review\n",
    "max_review_length = 500\n",
    "\n",
    "#Pad training and test reviews\n",
    "X_train = tf.keras.preprocessing.sequence.pad_sequences(X_train,\n",
    "                                                        maxlen=max_review_length,\n",
    "                                                        padding='pre')\n",
    "X_test = tf.keras.preprocessing.sequence.pad_sequences(X_test, \n",
    "                                                       maxlen=max_review_length, \n",
    "                                                       padding='pre')\n"
   ]
  },
  {
   "cell_type": "code",
   "execution_count": null,
   "metadata": {},
   "outputs": [],
   "source": [
    "#Initialize model\n",
    "tf.keras.backend.clear_session()\n",
    "model = tf.keras.Sequential()\n",
    "\n",
    "model.add(tf.keras.layers.Embedding(top_words + 1, #Vocablury size\n",
    "                                    50, #Embedding size\n",
    "                                    input_length=max_review_length) #Number of words in each review\n",
    "          )\n",
    "\n",
    "model.output\n",
    "model.add(tf.keras.layers.Dropout(0.5))\n",
    "model.add(tf.keras.layers.GRU(256,dropout=0.5)) #RNN State - size of cell state and hidden state\n",
    "\n",
    "model.output\n",
    "\n",
    "model.add(tf.keras.layers.Dropout(0.5))\n",
    "\n",
    "model.add(tf.keras.layers.Dense(1,activation='sigmoid'))\n",
    "\n",
    "#Compile the model\n",
    "model.compile(optimizer='adam',loss='binary_crossentropy',metrics=['accuracy',tf.keras.metrics.Recall(),tf.keras.metrics.Precision(),tf.keras.metrics.AUC()])\n",
    "\n",
    "model.summary()\n"
   ]
  },
  {
   "cell_type": "code",
   "execution_count": null,
   "metadata": {},
   "outputs": [],
   "source": [
    "epochs=40\n",
    "history=model.fit(X_train,y_train,\n",
    "          epochs=epochs,\n",
    "          batch_size=100,  \n",
    "          validation_data=(X_test, y_test))"
   ]
  },
  {
   "cell_type": "code",
   "execution_count": null,
   "metadata": {},
   "outputs": [],
   "source": [
    "# Graphs\n",
    "acc = history.history['accuracy']\n",
    "val_acc = history.history['val_accuracy']\n",
    "\n",
    "loss = history.history['loss']\n",
    "val_loss = history.history['val_loss']\n",
    "\n",
    "val_precission = history.history['val_precision']\n",
    "val_recall = history.history['val_recall']\n",
    "\n",
    "epochs_range = range(epochs)\n",
    "\n",
    "plt.figure(figsize=(15, 15))\n",
    "plt.subplot(1, 2, 1)\n",
    "plt.plot(epochs_range, acc, label='Training Accuracy')\n",
    "plt.plot(epochs_range, val_acc, label='Validation Accuracy')\n",
    "plt.plot(epochs_range, val_precission, label='validation precission')\n",
    "plt.plot(epochs_range, val_recall, label='Validation recall')\n",
    "plt.legend(loc='lower right')\n",
    "plt.title('Training and Validation Accuracy')\n",
    "\n",
    "plt.subplot(1, 2, 2)\n",
    "plt.plot(epochs_range, loss, label='Training Loss')\n",
    "plt.plot(epochs_range, val_loss, label='Validation Loss')\n",
    "plt.legend(loc='upper right')\n",
    "plt.title('Training and Validation Loss')\n",
    "plt.show()\n"
   ]
  },
  {
   "cell_type": "code",
   "execution_count": null,
   "metadata": {},
   "outputs": [],
   "source": []
  },
  {
   "cell_type": "code",
   "execution_count": null,
   "metadata": {},
   "outputs": [],
   "source": []
  },
  {
   "cell_type": "code",
   "execution_count": null,
   "metadata": {},
   "outputs": [],
   "source": []
  },
  {
   "cell_type": "code",
   "execution_count": null,
   "metadata": {},
   "outputs": [],
   "source": []
  }
 ],
 "metadata": {
  "kernelspec": {
   "display_name": "Python 3",
   "language": "python",
   "name": "python3"
  },
  "language_info": {
   "codemirror_mode": {
    "name": "ipython",
    "version": 3
   },
   "file_extension": ".py",
   "mimetype": "text/x-python",
   "name": "python",
   "nbconvert_exporter": "python",
   "pygments_lexer": "ipython3",
   "version": "3.8.3"
  }
 },
 "nbformat": 4,
 "nbformat_minor": 4
}
